{
  "nbformat": 4,
  "nbformat_minor": 0,
  "metadata": {
    "colab": {
      "name": "Kyle_Welch_Lab1",
      "provenance": [],
      "collapsed_sections": []
    },
    "kernelspec": {
      "name": "python3",
      "display_name": "Python 3"
    }
  },
  "cells": [
    {
      "cell_type": "code",
      "metadata": {
        "id": "yHlROsiSsJER"
      },
      "source": [
        "# load pandas, numpy, seaborn, matplotlib, and statsmodels\r\n",
        "import pandas as pd\r\n",
        "import numpy as np\r\n",
        "import seaborn as sns\r\n",
        "import matplotlib.pyplot as plt\r\n",
        "from sklearn.linear_model import LinearRegression\r\n",
        "from sklearn.datasets import make_regression"
      ],
      "execution_count": 172,
      "outputs": []
    },
    {
      "cell_type": "code",
      "metadata": {
        "id": "dT9dIOlyVgCS"
      },
      "source": [
        "pd.set_option(\"display.precision\",10)"
      ],
      "execution_count": 205,
      "outputs": []
    },
    {
      "cell_type": "code",
      "metadata": {
        "id": "vb5gjdAoLKmL"
      },
      "source": [
        "# import 5 datasets into pandas dataframes\r\n",
        "coaches = pd.read_csv('Coaches9.csv')\r\n",
        "donations = pd.read_csv('Donations.csv')\r\n",
        "graduation = pd.read_csv('Graduation Rates.csv')\r\n",
        "records = pd.read_csv('HistoricalRecords.csv')\r\n",
        "stadiums = pd.read_csv('Stadiums.csv')"
      ],
      "execution_count": 264,
      "outputs": []
    },
    {
      "cell_type": "code",
      "metadata": {
        "id": "2QyDS2QrPxpM"
      },
      "source": [
        "# drop redundant Conference columns\r\n",
        "graduation.drop('Conference', axis=1, inplace=True)\r\n",
        "records.drop('Conference', axis=1, inplace=True)\r\n",
        "stadiums.drop('Conference', axis=1, inplace=True)"
      ],
      "execution_count": 265,
      "outputs": []
    },
    {
      "cell_type": "code",
      "metadata": {
        "id": "67bqvANPNvE8"
      },
      "source": [
        "# merge all data frames together to create a wider data set\r\n",
        "schools = pd.merge(coaches, graduation, how = 'left', on=['School'])\r\n",
        "schools = pd.merge(schools, records, how = 'left', on=['School'])\r\n",
        "schools = pd.merge(schools, stadiums, how = 'left', on=['School'])\r\n",
        "schools = pd.merge(schools, donations, how = 'left', on=['School'])"
      ],
      "execution_count": 266,
      "outputs": []
    },
    {
      "cell_type": "code",
      "metadata": {
        "id": "kyaSgg5mTWz2"
      },
      "source": [
        "# drop unnecessary columns that will not be used\r\n",
        "schools.drop(['TotalPay', 'Bonus', 'BonusPaid', 'Buyout', 'AssistantPay', 'Cohort Year', 'Sport', 'State'], axis=1, inplace=True)"
      ],
      "execution_count": 267,
      "outputs": []
    },
    {
      "cell_type": "code",
      "metadata": {
        "id": "Drj2O7pKpGMb"
      },
      "source": [
        "syracuse = schools.iloc[102,:].to_string"
      ],
      "execution_count": 268,
      "outputs": []
    },
    {
      "cell_type": "code",
      "metadata": {
        "id": "eSmCb_vFV4SG"
      },
      "source": [
        "# remove rows with NAs\r\n",
        "schools = schools.dropna()"
      ],
      "execution_count": 269,
      "outputs": []
    },
    {
      "cell_type": "code",
      "metadata": {
        "colab": {
          "base_uri": "https://localhost:8080/"
        },
        "id": "V428iwaJW-u-",
        "outputId": "80d494d5-db0d-48c1-d033-086948819085"
      },
      "source": [
        "# check data types of remaining columns\r\n",
        "schools.dtypes"
      ],
      "execution_count": 270,
      "outputs": [
        {
          "output_type": "execute_result",
          "data": {
            "text/plain": [
              "School               object\n",
              "Conference           object\n",
              "Coach                object\n",
              "SchoolPay            object\n",
              "GSR                   int64\n",
              "FGR                 float64\n",
              "Total Games         float64\n",
              "ATWinPercentage     float64\n",
              "19WinPercentage     float64\n",
              "Capacity            float64\n",
              "Annual Donations    float64\n",
              "dtype: object"
            ]
          },
          "metadata": {
            "tags": []
          },
          "execution_count": 270
        }
      ]
    },
    {
      "cell_type": "code",
      "metadata": {
        "id": "yLROUV_WzHBv"
      },
      "source": [
        "# convert SchoolPay from object to a float\r\n",
        "schools['SchoolPay'] = schools['SchoolPay'].str.replace(',', '')\r\n",
        "schools['SchoolPay'] = schools['SchoolPay'].str.replace('$', '')\r\n",
        "schools['SchoolPay'] = schools.SchoolPay.astype(float)"
      ],
      "execution_count": 271,
      "outputs": []
    },
    {
      "cell_type": "code",
      "metadata": {
        "id": "hp_SfNOzAnFv"
      },
      "source": [
        "# rename columns likely to cause problems\r\n",
        "schools.rename(columns = {'Total Games':'TotalGames'}, inplace = True)\r\n",
        "schools.rename(columns = {'Annual Donations':'AnnualDonations'}, inplace = True)\r\n",
        "schools.rename(columns = {'19WinPercentage' : 'WinPercentage19'}, inplace = True)"
      ],
      "execution_count": 278,
      "outputs": []
    },
    {
      "cell_type": "code",
      "metadata": {
        "colab": {
          "base_uri": "https://localhost:8080/",
          "height": 366
        },
        "id": "VA5Vg5KeSlh-",
        "outputId": "1df6c8f7-332a-406b-f3e2-b39e72ee2471"
      },
      "source": [
        "sns.distplot(schools['SchoolPay'], hist=False, kde=True,\r\n",
        "             kde_kws = {'shade': True, 'linewidth': 3})\r\n",
        "plt.xticks([0, 1500000, 3000000, 4500000, 6000000, 7500000, 9000000])\r\n",
        "plt.title('Density Plot of Coaches Salaries')\r\n",
        "plt.xlabel('Salary (In Millions')\r\n",
        "plt.ylabel('Density')"
      ],
      "execution_count": 316,
      "outputs": [
        {
          "output_type": "stream",
          "text": [
            "/usr/local/lib/python3.6/dist-packages/seaborn/distributions.py:2557: FutureWarning: `distplot` is a deprecated function and will be removed in a future version. Please adapt your code to use either `displot` (a figure-level function with similar flexibility) or `kdeplot` (an axes-level function for kernel density plots).\n",
            "  warnings.warn(msg, FutureWarning)\n"
          ],
          "name": "stderr"
        },
        {
          "output_type": "execute_result",
          "data": {
            "text/plain": [
              "Text(0, 0.5, 'Density')"
            ]
          },
          "metadata": {
            "tags": []
          },
          "execution_count": 316
        },
        {
          "output_type": "display_data",
          "data": {
            "image/png": "[encoded data removed]",
            "text/plain": [
              "<Figure size 432x288 with 1 Axes>"
            ]
          },
          "metadata": {
            "tags": [],
            "needs_background": "light"
          }
        }
      ]
    },
    {
      "cell_type": "code",
      "metadata": {
        "colab": {
          "base_uri": "https://localhost:8080/",
          "height": 390
        },
        "id": "zW_lcbrurI6Z",
        "outputId": "765babe9-e4c4-447a-af68-707d4361b36c"
      },
      "source": [
        "# creating new data frame with average donations by conference to supplement missing data for Syracuse\r\n",
        "avgdonations = schools.groupby('Conference', as_index=False)['AnnualDonations'].mean()\r\n",
        "avgdonations"
      ],
      "execution_count": 279,
      "outputs": [
        {
          "output_type": "execute_result",
          "data": {
            "text/html": [
              "<div>\n",
              "<style scoped>\n",
              "    .dataframe tbody tr th:only-of-type {\n",
              "        vertical-align: middle;\n",
              "    }\n",
              "\n",
              "    .dataframe tbody tr th {\n",
              "        vertical-align: top;\n",
              "    }\n",
              "\n",
              "    .dataframe thead th {\n",
              "        text-align: right;\n",
              "    }\n",
              "</style>\n",
              "<table border=\"1\" class=\"dataframe\">\n",
              "  <thead>\n",
              "    <tr style=\"text-align: right;\">\n",
              "      <th></th>\n",
              "      <th>Conference</th>\n",
              "      <th>AnnualDonations</th>\n",
              "    </tr>\n",
              "  </thead>\n",
              "  <tbody>\n",
              "    <tr>\n",
              "      <th>0</th>\n",
              "      <td>AAC</td>\n",
              "      <td>8.7470757500e+06</td>\n",
              "    </tr>\n",
              "    <tr>\n",
              "      <th>1</th>\n",
              "      <td>ACC</td>\n",
              "      <td>3.0606997714e+07</td>\n",
              "    </tr>\n",
              "    <tr>\n",
              "      <th>2</th>\n",
              "      <td>Big 12</td>\n",
              "      <td>3.3119054750e+07</td>\n",
              "    </tr>\n",
              "    <tr>\n",
              "      <th>3</th>\n",
              "      <td>Big Ten</td>\n",
              "      <td>2.2980998308e+07</td>\n",
              "    </tr>\n",
              "    <tr>\n",
              "      <th>4</th>\n",
              "      <td>C-USA</td>\n",
              "      <td>4.4918385556e+06</td>\n",
              "    </tr>\n",
              "    <tr>\n",
              "      <th>5</th>\n",
              "      <td>Ind.</td>\n",
              "      <td>1.4212850000e+06</td>\n",
              "    </tr>\n",
              "    <tr>\n",
              "      <th>6</th>\n",
              "      <td>MAC</td>\n",
              "      <td>1.9867474000e+06</td>\n",
              "    </tr>\n",
              "    <tr>\n",
              "      <th>7</th>\n",
              "      <td>Mt. West</td>\n",
              "      <td>7.0797344444e+06</td>\n",
              "    </tr>\n",
              "    <tr>\n",
              "      <th>8</th>\n",
              "      <td>Pac-12</td>\n",
              "      <td>1.9206991300e+07</td>\n",
              "    </tr>\n",
              "    <tr>\n",
              "      <th>9</th>\n",
              "      <td>SEC</td>\n",
              "      <td>3.9907214583e+07</td>\n",
              "    </tr>\n",
              "    <tr>\n",
              "      <th>10</th>\n",
              "      <td>Sun Belt</td>\n",
              "      <td>3.7305367778e+06</td>\n",
              "    </tr>\n",
              "  </tbody>\n",
              "</table>\n",
              "</div>"
            ],
            "text/plain": [
              "   Conference   AnnualDonations\n",
              "0         AAC  8.7470757500e+06\n",
              "1         ACC  3.0606997714e+07\n",
              "2      Big 12  3.3119054750e+07\n",
              "3     Big Ten  2.2980998308e+07\n",
              "4       C-USA  4.4918385556e+06\n",
              "5        Ind.  1.4212850000e+06\n",
              "6         MAC  1.9867474000e+06\n",
              "7    Mt. West  7.0797344444e+06\n",
              "8      Pac-12  1.9206991300e+07\n",
              "9         SEC  3.9907214583e+07\n",
              "10   Sun Belt  3.7305367778e+06"
            ]
          },
          "metadata": {
            "tags": []
          },
          "execution_count": 279
        }
      ]
    },
    {
      "cell_type": "code",
      "metadata": {
        "id": "ILTti8bS26ZK"
      },
      "source": [
        "# store correlations values between variables\r\n",
        "correlation = schools.corr()"
      ],
      "execution_count": 280,
      "outputs": []
    },
    {
      "cell_type": "code",
      "metadata": {
        "colab": {
          "base_uri": "https://localhost:8080/",
          "height": 589
        },
        "id": "MvdYTW6i3PJo",
        "outputId": "7ff93f67-055a-4100-96df-d3b1296e4ab2"
      },
      "source": [
        "# Create correlation heat map\r\n",
        "mask = np.triu(np.ones_like(correlation, dtype=bool))\r\n",
        "f, ax = plt.subplots(figsize=(10, 10))\r\n",
        "cmap = sns.diverging_palette(230, 20, as_cmap=True)\r\n",
        "sns.heatmap(correlation, mask=mask, cmap=cmap, vmax=.8, center=0,\r\n",
        "            square=True, linewidths=.5, cbar_kws={\"shrink\": .5})"
      ],
      "execution_count": 281,
      "outputs": [
        {
          "output_type": "execute_result",
          "data": {
            "text/plain": [
              "<matplotlib.axes._subplots.AxesSubplot at 0x7fa1ed87ac88>"
            ]
          },
          "metadata": {
            "tags": []
          },
          "execution_count": 281
        },
        {
          "output_type": "display_data",
          "data": {
            "image/png": "[encoded data removed]",
            "text/plain": [
              "<Figure size 720x720 with 2 Axes>"
            ]
          },
          "metadata": {
            "tags": [],
            "needs_background": "light"
          }
        }
      ]
    },
    {
      "cell_type": "code",
      "metadata": {
        "id": "C23gS5Kf0JCF"
      },
      "source": [
        "# specify a model\r\n",
        "smodel = str('SchoolPay ~ Conference + GSR + FGR + TotalGames + ATWinPercentage + WinPercentage19 + Capacity + AnnualDonations')"
      ],
      "execution_count": 285,
      "outputs": []
    },
    {
      "cell_type": "code",
      "metadata": {
        "colab": {
          "base_uri": "https://localhost:8080/"
        },
        "id": "V2bgZfwJOo_7",
        "outputId": "1119aba8-7c09-4fc0-ab9d-210b805752c6"
      },
      "source": [
        "syracuse"
      ],
      "execution_count": 287,
      "outputs": [
        {
          "output_type": "execute_result",
          "data": {
            "text/plain": [
              "<bound method Series.to_string of School                 Syracuse\n",
              "Conference                  ACC\n",
              "Coach               Dino Babers\n",
              "SchoolPay           $2,401,206 \n",
              "GSR                          88\n",
              "FGR                          78\n",
              "Total Games                1331\n",
              "ATWinPercentage     0.563110443\n",
              "19WinPercentage           0.417\n",
              "Capacity                  49250\n",
              "Annual Donations            NaN\n",
              "Name: 102, dtype: object>"
            ]
          },
          "metadata": {
            "tags": []
          },
          "execution_count": 287
        }
      ]
    },
    {
      "cell_type": "code",
      "metadata": {
        "colab": {
          "base_uri": "https://localhost:8080/"
        },
        "id": "f8IWguI2AVO0",
        "outputId": "df182704-3826-4eb5-e6ad-b201697a53cf"
      },
      "source": [
        "model_fit = smf.ols(smodel, data = schools).fit()\r\n",
        "print(model_fit.summary())"
      ],
      "execution_count": 286,
      "outputs": [
        {
          "output_type": "stream",
          "text": [
            "                            OLS Regression Results                            \n",
            "==============================================================================\n",
            "Dep. Variable:              SchoolPay   R-squared:                       0.855\n",
            "Model:                            OLS   Adj. R-squared:                  0.822\n",
            "Method:                 Least Squares   F-statistic:                     25.72\n",
            "Date:                Sun, 31 Jan 2021   Prob (F-statistic):           2.58e-24\n",
            "Time:                        02:15:39   Log-Likelihood:                -1377.6\n",
            "No. Observations:                  92   AIC:                             2791.\n",
            "Df Residuals:                      74   BIC:                             2837.\n",
            "Df Model:                          17                                         \n",
            "Covariance Type:            nonrobust                                         \n",
            "==========================================================================================\n",
            "                             coef    std err          t      P>|t|      [0.025      0.975]\n",
            "------------------------------------------------------------------------------------------\n",
            "Intercept              -2.921e+06   1.27e+06     -2.295      0.025   -5.46e+06   -3.85e+05\n",
            "Conference[T.ACC]        8.84e+05   5.88e+05      1.503      0.137   -2.88e+05    2.06e+06\n",
            "Conference[T.Big 12]    8.074e+05    5.9e+05      1.368      0.176   -3.69e+05    1.98e+06\n",
            "Conference[T.Big Ten]   1.117e+06   5.46e+05      2.045      0.044    2.85e+04    2.21e+06\n",
            "Conference[T.C-USA]     -3.93e+05   5.55e+05     -0.708      0.481    -1.5e+06    7.12e+05\n",
            "Conference[T.Ind.]     -1.879e+05   9.89e+05     -0.190      0.850   -2.16e+06    1.78e+06\n",
            "Conference[T.MAC]       -3.95e+05   5.33e+05     -0.740      0.461   -1.46e+06    6.68e+05\n",
            "Conference[T.Mt. West] -2.896e+05   5.38e+05     -0.538      0.592   -1.36e+06    7.83e+05\n",
            "Conference[T.Pac-12]    1.793e+05   5.28e+05      0.339      0.735   -8.74e+05    1.23e+06\n",
            "Conference[T.SEC]       8.325e+05    6.1e+05      1.366      0.176   -3.82e+05    2.05e+06\n",
            "Conference[T.Sun Belt] -4.688e+05   5.69e+05     -0.824      0.413    -1.6e+06    6.65e+05\n",
            "GSR                     2.399e+04   1.77e+04      1.355      0.180   -1.13e+04    5.93e+04\n",
            "FGR                    -6308.3761   1.39e+04     -0.454      0.651    -3.4e+04    2.14e+04\n",
            "TotalGames              -136.1511    451.195     -0.302      0.764   -1035.177     762.874\n",
            "ATWinPercentage         2.947e+06   1.45e+06      2.028      0.046    5.18e+04    5.84e+06\n",
            "WinPercentage19         6.051e+05   4.99e+05      1.212      0.229   -3.89e+05     1.6e+06\n",
            "Capacity                  26.2524      8.888      2.954      0.004       8.542      43.963\n",
            "AnnualDonations            0.0315      0.011      2.881      0.005       0.010       0.053\n",
            "==============================================================================\n",
            "Omnibus:                        7.726   Durbin-Watson:                   2.115\n",
            "Prob(Omnibus):                  0.021   Jarque-Bera (JB):                9.816\n",
            "Skew:                           0.394   Prob(JB):                      0.00739\n",
            "Kurtosis:                       4.393   Cond. No.                     4.65e+08\n",
            "==============================================================================\n",
            "\n",
            "Warnings:\n",
            "[1] Standard Errors assume that the covariance matrix of the errors is correctly specified.\n",
            "[2] The condition number is large, 4.65e+08. This might indicate that there are\n",
            "strong multicollinearity or other numerical problems.\n"
          ],
          "name": "stdout"
        }
      ]
    },
    {
      "cell_type": "code",
      "metadata": {
        "colab": {
          "base_uri": "https://localhost:8080/"
        },
        "id": "SlZqprMPmZYD",
        "outputId": "dd4b2926-2a36-4344-c4a0-bdfb15dc5023"
      },
      "source": [
        "print('\\nRecommended salary for Syracuse coach: $',\\\r\n",
        "      round(model_fit.params[1],0)+(round(model_fit.params[11],0)*88)+(round(model_fit.params[12],0)*78)+(round(model_fit.params[13],0)*1331)+(round(model_fit.params[14],0)*0.563110443)+(round(model_fit.params[15],0)*0.417)+(round(model_fit.params[16],0)*49250)+(round(model_fit.params[17],0)*30606998))\r\n",
        "print('\\nRecommended salary for Syracuse coach, if Syracuse moved to Big Ten: $',\\\r\n",
        "      round(model_fit.params[3],0)+(round(model_fit.params[11],0)*88)+(round(model_fit.params[12],0)*78)+(round(model_fit.params[13],0)*1331)+(round(model_fit.params[14],0)*0.563110443)+(round(model_fit.params[15],0)*0.417)+(round(model_fit.params[16],0)*49250)+(round(model_fit.params[17],0)*30606998))\r\n",
        "print('\\nActual salary for Syracuse coach: $ 2401206')"
      ],
      "execution_count": 291,
      "outputs": [
        {
          "output_type": "stream",
          "text": [
            "\n",
            "Recommended salary for Syracuse coach: $ 5514518.94659377\n",
            "\n",
            "Recommended salary for Syracuse coach, if Syracuse moved to Big Ten: $ 5747455.94659377\n",
            "\n",
            "Actual salary for Syracuse coach: $ 2401206\n"
          ],
          "name": "stdout"
        }
      ]
    },
    {
      "cell_type": "code",
      "metadata": {
        "colab": {
          "base_uri": "https://localhost:8080/"
        },
        "id": "MrfSP0a-BNxD",
        "outputId": "2c45b37a-22fb-4e87-a332-4b3e7a88251e"
      },
      "source": [
        "# Drop TotalGames, FGR, and WinPercentage19 from model and re-run\r\n",
        "smodel = str('SchoolPay ~ Conference + GSR + ATWinPercentage + Capacity + AnnualDonations')\r\n",
        "model_fit = smf.ols(smodel, data = schools).fit()\r\n",
        "print(model_fit.summary())"
      ],
      "execution_count": 294,
      "outputs": [
        {
          "output_type": "stream",
          "text": [
            "                            OLS Regression Results                            \n",
            "==============================================================================\n",
            "Dep. Variable:              SchoolPay   R-squared:                       0.851\n",
            "Model:                            OLS   Adj. R-squared:                  0.824\n",
            "Method:                 Least Squares   F-statistic:                     31.53\n",
            "Date:                Sun, 31 Jan 2021   Prob (F-statistic):           3.86e-26\n",
            "Time:                        02:22:48   Log-Likelihood:                -1378.7\n",
            "No. Observations:                  92   AIC:                             2787.\n",
            "Df Residuals:                      77   BIC:                             2825.\n",
            "Df Model:                          14                                         \n",
            "Covariance Type:            nonrobust                                         \n",
            "==========================================================================================\n",
            "                             coef    std err          t      P>|t|      [0.025      0.975]\n",
            "------------------------------------------------------------------------------------------\n",
            "Intercept              -3.222e+06   1.23e+06     -2.627      0.010   -5.66e+06    -7.8e+05\n",
            "Conference[T.ACC]       7.269e+05   5.69e+05      1.278      0.205   -4.06e+05    1.86e+06\n",
            "Conference[T.Big 12]    6.567e+05   5.63e+05      1.166      0.247   -4.65e+05    1.78e+06\n",
            "Conference[T.Big Ten]   9.737e+05   5.23e+05      1.862      0.066   -6.76e+04    2.01e+06\n",
            "Conference[T.C-USA]    -3.105e+05    5.3e+05     -0.585      0.560   -1.37e+06    7.46e+05\n",
            "Conference[T.Ind.]     -3.404e+05   9.64e+05     -0.353      0.725   -2.26e+06    1.58e+06\n",
            "Conference[T.MAC]      -4.393e+05   5.28e+05     -0.831      0.408   -1.49e+06    6.13e+05\n",
            "Conference[T.Mt. West] -3.003e+05   5.32e+05     -0.565      0.574   -1.36e+06    7.58e+05\n",
            "Conference[T.Pac-12]    8.903e+04   5.14e+05      0.173      0.863   -9.35e+05    1.11e+06\n",
            "Conference[T.SEC]       7.111e+05   5.77e+05      1.232      0.222   -4.38e+05    1.86e+06\n",
            "Conference[T.Sun Belt] -4.448e+05   5.41e+05     -0.822      0.414   -1.52e+06    6.32e+05\n",
            "GSR                     2.205e+04   1.14e+04      1.933      0.057    -664.304    4.48e+04\n",
            "ATWinPercentage         3.316e+06   1.38e+06      2.402      0.019    5.67e+05    6.07e+06\n",
            "Capacity                  27.3222      8.776      3.113      0.003       9.848      44.797\n",
            "AnnualDonations            0.0345      0.011      3.283      0.002       0.014       0.055\n",
            "==============================================================================\n",
            "Omnibus:                       10.268   Durbin-Watson:                   2.126\n",
            "Prob(Omnibus):                  0.006   Jarque-Bera (JB):               12.506\n",
            "Skew:                           0.569   Prob(JB):                      0.00192\n",
            "Kurtosis:                       4.402   Cond. No.                     4.58e+08\n",
            "==============================================================================\n",
            "\n",
            "Warnings:\n",
            "[1] Standard Errors assume that the covariance matrix of the errors is correctly specified.\n",
            "[2] The condition number is large, 4.58e+08. This might indicate that there are\n",
            "strong multicollinearity or other numerical problems.\n"
          ],
          "name": "stdout"
        }
      ]
    },
    {
      "cell_type": "code",
      "metadata": {
        "colab": {
          "base_uri": "https://localhost:8080/"
        },
        "id": "7SxFj7uJjlTu",
        "outputId": "def9af62-ea4c-402d-c0e4-df4ce68017b9"
      },
      "source": [
        "print('\\nRecommended salary for Syracuse coach: $',\\\r\n",
        "      round(model_fit.params[1],0)+(round(model_fit.params[11],0)*88)+(round(model_fit.params[12],0)*0.563110443)+(round(model_fit.params[13],0)*49250)+(round(model_fit.params[14],0)*8747075.75))\r\n",
        "print('\\nRecommended salary for Syracuse coach, if Syracuse moved to Big Ten: $',\\\r\n",
        "      round(model_fit.params[3],0)+(round(model_fit.params[11],0)*88)+(round(model_fit.params[12],0)*0.563110443)+(round(model_fit.params[13],0)*49250)+(round(model_fit.params[14],0)*8747075.75))\r\n",
        "print('\\nActual salary for Syracuse coach: $ 2401206')"
      ],
      "execution_count": 295,
      "outputs": [
        {
          "output_type": "stream",
          "text": [
            "\n",
            "Recommended salary for Syracuse coach: $ 5864614.53101647\n",
            "\n",
            "Recommended salary for Syracuse coach, if Syracuse moved to Big Ten: $ 6111470.53101647\n",
            "\n",
            "Actual salary for Syracuse coach: $ 2401206\n"
          ],
          "name": "stdout"
        }
      ]
    },
    {
      "cell_type": "code",
      "metadata": {
        "colab": {
          "base_uri": "https://localhost:8080/"
        },
        "id": "TizFcgPe3M8C",
        "outputId": "bc234965-b09c-430c-c6df-af58638dd5e3"
      },
      "source": [
        "# Drop both Graduation Rates\r\n",
        "smodel = str('SchoolPay ~ Conference + TotalGames + ATWinPercentage + WinPercentage19 + Capacity + AnnualDonations')\r\n",
        "model_fit = smf.ols(smodel, data = schools).fit()\r\n",
        "print(model_fit.summary())"
      ],
      "execution_count": 299,
      "outputs": [
        {
          "output_type": "stream",
          "text": [
            "                            OLS Regression Results                            \n",
            "==============================================================================\n",
            "Dep. Variable:              SchoolPay   R-squared:                       0.850\n",
            "Model:                            OLS   Adj. R-squared:                  0.821\n",
            "Method:                 Least Squares   F-statistic:                     28.81\n",
            "Date:                Sun, 31 Jan 2021   Prob (F-statistic):           2.87e-25\n",
            "Time:                        02:24:58   Log-Likelihood:                -1379.1\n",
            "No. Observations:                  92   AIC:                             2790.\n",
            "Df Residuals:                      76   BIC:                             2830.\n",
            "Df Model:                          15                                         \n",
            "Covariance Type:            nonrobust                                         \n",
            "==========================================================================================\n",
            "                             coef    std err          t      P>|t|      [0.025      0.975]\n",
            "------------------------------------------------------------------------------------------\n",
            "Intercept              -1.441e+06   8.29e+05     -1.738      0.086   -3.09e+06     2.1e+05\n",
            "Conference[T.ACC]       9.513e+05   5.85e+05      1.627      0.108   -2.13e+05    2.12e+06\n",
            "Conference[T.Big 12]    8.395e+05   5.92e+05      1.419      0.160   -3.39e+05    2.02e+06\n",
            "Conference[T.Big Ten]   1.243e+06   5.41e+05      2.297      0.024    1.65e+05    2.32e+06\n",
            "Conference[T.C-USA]    -4.362e+05   5.53e+05     -0.789      0.432   -1.54e+06    6.64e+05\n",
            "Conference[T.Ind.]      -1.21e+05   9.86e+05     -0.123      0.903   -2.09e+06    1.84e+06\n",
            "Conference[T.MAC]      -3.821e+05   5.35e+05     -0.714      0.477   -1.45e+06    6.83e+05\n",
            "Conference[T.Mt. West] -2.715e+05   5.38e+05     -0.505      0.615   -1.34e+06    7.99e+05\n",
            "Conference[T.Pac-12]    2.615e+05   5.27e+05      0.496      0.621   -7.88e+05    1.31e+06\n",
            "Conference[T.SEC]       9.467e+05   6.04e+05      1.568      0.121   -2.56e+05    2.15e+06\n",
            "Conference[T.Sun Belt] -4.909e+05   5.71e+05     -0.860      0.392   -1.63e+06    6.46e+05\n",
            "TotalGames               -62.0735    449.930     -0.138      0.891    -958.186     834.039\n",
            "ATWinPercentage         2.593e+06   1.44e+06      1.806      0.075   -2.67e+05    5.45e+06\n",
            "WinPercentage19         8.427e+05   4.76e+05      1.771      0.081   -1.05e+05    1.79e+06\n",
            "Capacity                  27.1225      8.875      3.056      0.003       9.446      44.799\n",
            "AnnualDonations            0.0278      0.011      2.599      0.011       0.006       0.049\n",
            "==============================================================================\n",
            "Omnibus:                        6.667   Durbin-Watson:                   2.129\n",
            "Prob(Omnibus):                  0.036   Jarque-Bera (JB):                8.967\n",
            "Skew:                           0.288   Prob(JB):                       0.0113\n",
            "Kurtosis:                       4.417   Cond. No.                     4.29e+08\n",
            "==============================================================================\n",
            "\n",
            "Warnings:\n",
            "[1] Standard Errors assume that the covariance matrix of the errors is correctly specified.\n",
            "[2] The condition number is large, 4.29e+08. This might indicate that there are\n",
            "strong multicollinearity or other numerical problems.\n"
          ],
          "name": "stdout"
        }
      ]
    },
    {
      "cell_type": "code",
      "metadata": {
        "id": "yrI59m3wYZKe"
      },
      "source": [
        "from google.colab import drive\n",
        "drive.mount('/content/drive')"
      ],
      "execution_count": null,
      "outputs": []
    },
    {
      "cell_type": "code",
      "metadata": {
        "colab": {
          "base_uri": "https://localhost:8080/"
        },
        "id": "4sWRTOJhFwAo",
        "outputId": "f55d756d-eafc-48b3-f955-0e6742930ca2"
      },
      "source": [
        "print('\\nRecommended salary for Syracuse coach: $',\\\r\n",
        "      round(model_fit.params[1],0)+(round(model_fit.params[11],0)*1331)+(round(model_fit.params[12],0)*0.563110443)+(round(model_fit.params[13],0)*0.417)+(round(model_fit.params[14],0)*49250)+(round(model_fit.params[15],0)*30606998))\r\n",
        "print('\\nRecommended salary for Syracuse coach, if Syracuse moved to Big Ten: $',\\\r\n",
        "      round(model_fit.params[3],0)+(round(model_fit.params[11],0)*1331)+(round(model_fit.params[12],0)*0.563110443)+(round(model_fit.params[13],0)*0.417)+(round(model_fit.params[14],0)*49250)+(round(model_fit.params[15],0)*30606998))\r\n",
        "print('\\nActual salary for Syracuse coach: $ 2401206')"
      ],
      "execution_count": 300,
      "outputs": [
        {
          "output_type": "stream",
          "text": [
            "\n",
            "Recommended salary for Syracuse coach: $ 4010300.631735692\n",
            "\n",
            "Recommended salary for Syracuse coach, if Syracuse moved to Big Ten: $ 4302177.631735692\n",
            "\n",
            "Actual salary for Syracuse coach: $ 2401206\n"
          ],
          "name": "stdout"
        }
      ]
    },
    {
      "cell_type": "code",
      "metadata": {
        "colab": {
          "base_uri": "https://localhost:8080/"
        },
        "id": "cj3kpUnAQ1kb",
        "outputId": "ca3e182c-277f-4aa4-b0e5-1ff5b33732ef"
      },
      "source": [
        "# Drop both Graduation Rates, TotalGames, and ATWinPercentage\r\n",
        "smodel = str('SchoolPay ~ Conference + WinPercentage19 + Capacity + AnnualDonations')\r\n",
        "model_fit = smf.ols(smodel, data = schools).fit()\r\n",
        "print(model_fit.summary())"
      ],
      "execution_count": 303,
      "outputs": [
        {
          "output_type": "stream",
          "text": [
            "                            OLS Regression Results                            \n",
            "==============================================================================\n",
            "Dep. Variable:              SchoolPay   R-squared:                       0.844\n",
            "Model:                            OLS   Adj. R-squared:                  0.818\n",
            "Method:                 Least Squares   F-statistic:                     32.46\n",
            "Date:                Sun, 31 Jan 2021   Prob (F-statistic):           4.18e-26\n",
            "Time:                        02:28:41   Log-Likelihood:                -1381.0\n",
            "No. Observations:                  92   AIC:                             2790.\n",
            "Df Residuals:                      78   BIC:                             2825.\n",
            "Df Model:                          13                                         \n",
            "Covariance Type:            nonrobust                                         \n",
            "==========================================================================================\n",
            "                             coef    std err          t      P>|t|      [0.025      0.975]\n",
            "------------------------------------------------------------------------------------------\n",
            "Intercept              -5.926e+05   5.85e+05     -1.013      0.314   -1.76e+06    5.72e+05\n",
            "Conference[T.ACC]       9.716e+05   5.81e+05      1.673      0.098   -1.84e+05    2.13e+06\n",
            "Conference[T.Big 12]    7.999e+05    5.8e+05      1.378      0.172   -3.56e+05    1.96e+06\n",
            "Conference[T.Big Ten]   1.217e+06    5.3e+05      2.296      0.024    1.62e+05    2.27e+06\n",
            "Conference[T.C-USA]    -3.054e+05   5.34e+05     -0.572      0.569   -1.37e+06    7.57e+05\n",
            "Conference[T.Ind.]     -2.172e+05    9.9e+05     -0.219      0.827   -2.19e+06    1.75e+06\n",
            "Conference[T.MAC]      -2.446e+05   5.34e+05     -0.458      0.648   -1.31e+06    8.18e+05\n",
            "Conference[T.Mt. West] -1.109e+05   5.34e+05     -0.208      0.836   -1.17e+06    9.53e+05\n",
            "Conference[T.Pac-12]    3.086e+05   5.24e+05      0.589      0.558   -7.35e+05    1.35e+06\n",
            "Conference[T.SEC]       8.516e+05    5.9e+05      1.444      0.153   -3.23e+05    2.03e+06\n",
            "Conference[T.Sun Belt] -2.924e+05   5.42e+05     -0.540      0.591   -1.37e+06    7.86e+05\n",
            "WinPercentage19          1.01e+06   4.68e+05      2.158      0.034     7.8e+04    1.94e+06\n",
            "Capacity                  33.5815      8.189      4.101      0.000      17.279      49.884\n",
            "AnnualDonations            0.0295      0.011      2.772      0.007       0.008       0.051\n",
            "==============================================================================\n",
            "Omnibus:                        8.853   Durbin-Watson:                   2.087\n",
            "Prob(Omnibus):                  0.012   Jarque-Bera (JB):               14.804\n",
            "Skew:                           0.322   Prob(JB):                     0.000610\n",
            "Kurtosis:                       4.857   Cond. No.                     4.18e+08\n",
            "==============================================================================\n",
            "\n",
            "Warnings:\n",
            "[1] Standard Errors assume that the covariance matrix of the errors is correctly specified.\n",
            "[2] The condition number is large, 4.18e+08. This might indicate that there are\n",
            "strong multicollinearity or other numerical problems.\n"
          ],
          "name": "stdout"
        }
      ]
    },
    {
      "cell_type": "code",
      "metadata": {
        "colab": {
          "base_uri": "https://localhost:8080/"
        },
        "id": "2Nt-e2BkREgC",
        "outputId": "84d6e62d-38f1-4840-ec87-e0c407981f01"
      },
      "source": [
        "print('\\nRecommended salary for Syracuse coach: $',\\\r\n",
        "      round(model_fit.params[1],0)+(round(model_fit.params[11],0)*0.417)+(round(model_fit.params[12],0)*49250)+(round(model_fit.params[13],0)*30606998))\r\n",
        "print('\\nRecommended salary for Syracuse coach, if Syracuse moved to Big Ten: $',\\\r\n",
        "      round(model_fit.params[3],0)+(round(model_fit.params[11],0)*0.417)+(round(model_fit.params[12],0)*49250)+(round(model_fit.params[13],0)*30606998))\r\n",
        "print('\\nActual salary for Syracuse coach: $ 2401206')"
      ],
      "execution_count": 304,
      "outputs": [
        {
          "output_type": "stream",
          "text": [
            "\n",
            "Recommended salary for Syracuse coach: $ 3067088.002\n",
            "\n",
            "Recommended salary for Syracuse coach, if Syracuse moved to Big Ten: $ 3312191.002\n",
            "\n",
            "Actual salary for Syracuse coach: $ 2401206\n"
          ],
          "name": "stdout"
        }
      ]
    }
  ]
}